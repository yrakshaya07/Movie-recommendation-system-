{
 "cells": [
  {
   "cell_type": "code",
   "execution_count": null,
   "id": "e485a9d2-791f-4873-bbe7-5d328f73b936",
   "metadata": {},
   "outputs": [
    {
     "name": "stderr",
     "output_type": "stream",
     "text": [
      "C:\\Users\\91636\\AppData\\Local\\Temp\\ipykernel_28960\\2269423410.py:13: DtypeWarning: Columns (10) have mixed types. Specify dtype option on import or set low_memory=False.\n",
      "  movies = pd.read_csv(movies_path, encoding='utf-8')\n"
     ]
    },
    {
     "name": "stdout",
     "output_type": "stream",
     "text": [
      "Movies columns: ['adult', 'belongs_to_collection', 'budget', 'genres', 'homepage', 'id', 'imdb_id', 'original_language', 'original_title', 'overview', 'popularity', 'poster_path', 'production_companies', 'production_countries', 'release_date', 'revenue', 'runtime', 'spoken_languages', 'status', 'tagline', 'title', 'video', 'vote_average', 'vote_count', 'movieId']\n",
      "Ratings columns: ['userId', 'movieId', 'rating', 'timestamp']\n",
      "\n",
      "Example movie titles (first 10):\n",
      "['Toy Story' 'Jumanji' 'Grumpier Old Men' 'Waiting to Exhale'\n",
      " 'Father of the Bride Part II' 'Heat' 'Sabrina' 'Tom and Huck'\n",
      " 'Sudden Death' 'GoldenEye']\n"
     ]
    },
    {
     "name": "stdout",
     "output_type": "stream",
     "text": [
      "\n",
      "Enter a movie title (exactly as shown above):  Toy Story\n",
      "Choose recommendation method ('content' or 'collaborative'):  content\n"
     ]
    },
    {
     "name": "stdout",
     "output_type": "stream",
     "text": [
      "\n",
      "Top 5 recommendations:\n",
      "1. Tom and Jerry: Shiver Me Whiskers\n",
      "2. Kronk's New Groove\n",
      "3. Santa Claus and the Magic Drum\n",
      "4. The Prince and the Pauper\n",
      "5. An All Dogs Christmas Carol\n"
     ]
    }
   ],
   "source": [
    "\n",
    "import pandas as pd\n",
    "from sklearn.feature_extraction.text import TfidfVectorizer\n",
    "from sklearn.neighbors import NearestNeighbors\n",
    "\n",
    "\n",
    "movies_path = \"D:/project/movies_metadata.csv\"  \n",
    "ratings_path = \"D:/project/ratings.csv\"         \n",
    "\n",
    "\n",
    "movies = pd.read_csv(movies_path, encoding='utf-8')\n",
    "ratings = pd.read_csv(ratings_path, encoding='utf-8')\n",
    "\n",
    "\n",
    "movies = movies[movies['id'].apply(lambda x: str(x).isdigit())]\n",
    "movies['movieId'] = movies['id'].astype(int)\n",
    "\n",
    "print(\"Movies columns:\", movies.columns.tolist())\n",
    "print(\"Ratings columns:\", ratings.columns.tolist())\n",
    "\n",
    "\n",
    "def get_content_recommendations(title, top_n=5):\n",
    "    if 'genres' not in movies.columns or 'title' not in movies.columns:\n",
    "        return [\"Movies data missing required columns.\"]\n",
    "    \n",
    "\n",
    "    tfidf = TfidfVectorizer(stop_words='english')\n",
    "    tfidf_matrix = tfidf.fit_transform(movies['genres'].fillna(''))\n",
    "    \n",
    "    \n",
    "    model_knn = NearestNeighbors(metric='cosine', algorithm='brute')\n",
    "    model_knn.fit(tfidf_matrix)\n",
    "    \n",
    "    indices = pd.Series(movies.index, index=movies['title']).drop_duplicates()\n",
    "\n",
    "    if title not in indices:\n",
    "        return [\"Movie not found in dataset.\"]\n",
    "\n",
    "    idx = indices[title]\n",
    "    distances, indices_neighbors = model_knn.kneighbors(tfidf_matrix[idx], n_neighbors=top_n+1)\n",
    "\n",
    "    recommended_indices = indices_neighbors.flatten()[1:]  # exclude the movie itself\n",
    "    return movies['title'].iloc[recommended_indices].tolist()\n",
    "\n",
    "\n",
    "def get_collaborative_recommendations(title, top_n=5):\n",
    "    if 'movieId' not in movies.columns or 'movieId' not in ratings.columns:\n",
    "        return [\"Missing 'movieId' in movies or ratings data.\"]\n",
    "    if 'rating' not in ratings.columns or 'userId' not in ratings.columns:\n",
    "        return [\"Missing 'userId' or 'rating' in ratings data.\"]\n",
    "    try:\n",
    "        user_movie_matrix = ratings.merge(movies[['movieId', 'title']], on='movieId')\n",
    "    except Exception:\n",
    "        return [\"Error merging ratings and movies data.\"]\n",
    "    matrix = user_movie_matrix.pivot_table(index='userId', columns='title', values='rating').fillna(0)\n",
    "\n",
    "    if title not in matrix.columns:\n",
    "        return [\"Movie not rated by users. Try another.\"]\n",
    "\n",
    "    try:\n",
    "        model_knn = NearestNeighbors(metric='cosine', algorithm='brute')\n",
    "        model_knn.fit(matrix.T.values)\n",
    "        query_index = list(matrix.columns).index(title)\n",
    "        distances, indices_neighbors = model_knn.kneighbors([matrix.T.values[query_index]], n_neighbors=top_n+1)\n",
    "        recommended = [matrix.columns[i] for i in indices_neighbors.flatten()][1:]\n",
    "        return recommended\n",
    "    except Exception as e:\n",
    "        return [f\"Collaborative filtering failed: {e}\"]\n",
    "\n",
    "\n",
    "print(\"\\nExample movie titles (first 10):\")\n",
    "print(movies['title'].dropna().unique()[:10])\n",
    "\n",
    "movie_input = input(\"\\nEnter a movie title (exactly as shown above): \").strip()\n",
    "method = input(\"Choose recommendation method ('content' or 'collaborative'): \").strip().lower()\n",
    "\n",
    "if method == 'content':\n",
    "    recommendations = get_content_recommendations(movie_input)\n",
    "elif method == 'collaborative':\n",
    "    recommendations = get_collaborative_recommendations(movie_input)\n",
    "else:\n",
    "    recommendations = [\"Invalid recommendation method chosen.\"]\n",
    "\n",
    "print(\"\\nTop 5 recommendations:\")\n",
    "for i, rec in enumerate(recommendations, 1):\n",
    "    print(f\"{i}. {rec}\")\n"
   ]
  },
  {
   "cell_type": "code",
   "execution_count": null,
   "id": "0ae8211c-7c5c-4d9b-a5b0-e402b00adc71",
   "metadata": {},
   "outputs": [],
   "source": []
  }
 ],
 "metadata": {
  "kernelspec": {
   "display_name": "Python 3 (ipykernel)",
   "language": "python",
   "name": "python3"
  },
  "language_info": {
   "codemirror_mode": {
    "name": "ipython",
    "version": 3
   },
   "file_extension": ".py",
   "mimetype": "text/x-python",
   "name": "python",
   "nbconvert_exporter": "python",
   "pygments_lexer": "ipython3",
   "version": "3.13.1"
  }
 },
 "nbformat": 4,
 "nbformat_minor": 5
}
